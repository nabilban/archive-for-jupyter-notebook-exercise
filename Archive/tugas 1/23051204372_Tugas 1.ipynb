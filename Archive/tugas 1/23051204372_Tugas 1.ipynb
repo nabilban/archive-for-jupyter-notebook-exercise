{
 "cells": [
  {
   "cell_type": "code",
   "execution_count": 8,
   "id": "7b06f7e8-d825-46db-b1a7-d1c7236bfd48",
   "metadata": {},
   "outputs": [
    {
     "name": "stdout",
     "output_type": "stream",
     "text": [
      "Hasil prediksi: PD\n",
      "Class: Healthy\n",
      "Akurasi: 0.49473684210526314\n"
     ]
    }
   ],
   "source": [
    "#TUGAS 1 |Kecerdasan Buatan | Implementasi Machine Learning (Naïve Bayes) Memakai Python\n",
    "#Nama : M Farhan Nabil\n",
    "#Kelas : TI 23 K\n",
    "#NIM : 23051204372\n",
    "# Membaca dataset Parkinson yang baru diunggah\n",
    "import numpy as np\n",
    "import pandas as pd\n",
    "import matplotlib.pyplot as plt\n",
    "import sklearn\n",
    "from sklearn.model_selection import train_test_split\n",
    "from sklearn.naive_bayes import GaussianNB\n",
    "from sklearn.metrics import accuracy_score\n",
    "\n",
    "dataset = pd. read_excel( 'parkinsons.xlsx')\n",
    "X = dataset.iloc[:,:-1]                            #kolom fitur [22 kolom pertama]\n",
    "y = dataset.iloc[:, -1]                            #row class terkhir\n",
    "\n",
    "X_train, X_test = X.iloc[:100, :], X.iloc[100:, :] #memisahakan train\n",
    "y_train, y_test = y.iloc[:100], y.iloc[100:]       #memishakan sisanya untuk test\n",
    "\n",
    "# Inisialisasi model Naïve Bayes\n",
    "classifier = GaussianNB()\n",
    "\n",
    "# Melatih model pada data training\n",
    "classifier.fit(X_train, y_train)\n",
    "\n",
    "# Prediksi pada data testing\n",
    "y_pred = classifier.predict(X_test)\n",
    "\n",
    "# Menghitung akurasi\n",
    "ac = accuracy_score (y_test, y_pred)\n",
    "\n",
    "#output hasilnya\n",
    "print( 'Hasil prediksi:', y_pred[10])\n",
    "print( 'Class:', y_test.values[10])\n",
    "print( 'Akurasi:', ac)"
   ]
  },
  {
   "cell_type": "code",
   "execution_count": null,
   "id": "c93314e4-6251-41cf-81c1-4ef466830f92",
   "metadata": {},
   "outputs": [],
   "source": []
  },
  {
   "cell_type": "code",
   "execution_count": null,
   "id": "2fa7fa23-4d39-4dc2-9cda-a1ed9272b09b",
   "metadata": {},
   "outputs": [],
   "source": []
  }
 ],
 "metadata": {
  "kernelspec": {
   "display_name": "Python 3 (ipykernel)",
   "language": "python",
   "name": "python3"
  },
  "language_info": {
   "codemirror_mode": {
    "name": "ipython",
    "version": 3
   },
   "file_extension": ".py",
   "mimetype": "text/x-python",
   "name": "python",
   "nbconvert_exporter": "python",
   "pygments_lexer": "ipython3",
   "version": "3.12.2"
  }
 },
 "nbformat": 4,
 "nbformat_minor": 5
}
